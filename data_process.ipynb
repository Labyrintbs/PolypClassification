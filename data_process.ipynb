{
 "cells": [
  {
   "cell_type": "code",
   "execution_count": 41,
   "metadata": {},
   "outputs": [],
   "source": [
    "import os\n",
    "import pandas as pd\n",
    "import ast # string parse\n",
    "\n",
    "# Dataset path\n",
    "data_dir = \"/Users/tuboshu/Downloads/Polar_Dataset\"  \n",
    "annotation_file = \"polar_annotations.xlsx\"  \n",
    "\n",
    "df_train = pd.read_excel(os.path.join(data_dir, annotation_file), sheet_name=\"train_set\")\n",
    "df_val = pd.read_excel(os.path.join(data_dir, annotation_file), sheet_name=\"validation_set\")"
   ]
  },
  {
   "cell_type": "code",
   "execution_count": 42,
   "metadata": {},
   "outputs": [
    {
     "name": "stdout",
     "output_type": "stream",
     "text": [
      "<bound method NDFrame.head of                             PATIENT_ID                          POLYP_ID  \\\n",
      "0     1738b15b7fb1cd2d88e4c6db8ecc105a  10fc3a817b8f1c79cd3b97f17bffe141   \n",
      "1     1738b15b7fb1cd2d88e4c6db8ecc105a  10fc3a817b8f1c79cd3b97f17bffe141   \n",
      "2     f10b7063a7d05c9287eee831c543e172  8f10594a9127b19e202461b554eabed2   \n",
      "3     f10b7063a7d05c9287eee831c543e172  8f10594a9127b19e202461b554eabed2   \n",
      "4     9304f26a2bc220cf98a79e2b8b3ab798  03ddd338799540d5ffbc52c5d8fb4b1f   \n",
      "...                                ...                               ...   \n",
      "2632  55dac536cf9f10af9299eed3deb64efb  c3434f07e2d52c50333ee2c5bec3cea2   \n",
      "2633  55dac536cf9f10af9299eed3deb64efb  c3434f07e2d52c50333ee2c5bec3cea2   \n",
      "2634  55dac536cf9f10af9299eed3deb64efb  c3434f07e2d52c50333ee2c5bec3cea2   \n",
      "2635  e07730acabe96d3f9a8752388081fcf6  fddaa3d77a75d3cf5531ccf016596ea8   \n",
      "2636  e07730acabe96d3f9a8752388081fcf6  fddaa3d77a75d3cf5531ccf016596ea8   \n",
      "\n",
      "                           IMG_FILE_PREFIX POLYP POSITION (x,y,w,h)  SIZE  \\\n",
      "0     89d7f004-f42e-4097-9688-07f6e84ba0ae     [435, 388, 468, 330]     2   \n",
      "1     c99ec5b1-6bd0-4635-ad91-77fa7b12f6ac     [411, 406, 497, 355]     2   \n",
      "2     865f0321-37a5-4347-9756-b6fbdf29001b      [330, 77, 193, 176]     2   \n",
      "3     c0dd064b-6dec-49af-953e-8c128e164ea8     [360, 227, 236, 237]     2   \n",
      "4     53fa6fdb-6fec-4722-b983-446249533cbe     [688, 257, 270, 413]     2   \n",
      "...                                    ...                      ...   ...   \n",
      "2632  02de92b7-6b1e-4396-9cb8-df08fad043d5     [714, 496, 242, 243]     2   \n",
      "2633  5bc1a141-845d-416a-bbe5-a44915e96e0f     [574, 437, 298, 314]     2   \n",
      "2634  75aead51-81e1-4c53-977f-34bf1b823d79     [694, 643, 328, 235]     2   \n",
      "2635  61853108-877f-4e3a-9fe8-deaa2d05afe6     [508, 423, 297, 232]     0   \n",
      "2636  9a1b7ffa-a224-4745-97d0-f9b96ec9f030     [473, 398, 260, 213]     0   \n",
      "\n",
      "          PATHOLOGY DIAGNOSIS  \n",
      "0     sessile serrated lesion  \n",
      "1     sessile serrated lesion  \n",
      "2                     adenoma  \n",
      "3                     adenoma  \n",
      "4     sessile serrated lesion  \n",
      "...                       ...  \n",
      "2632                  adenoma  \n",
      "2633                  adenoma  \n",
      "2634                  adenoma  \n",
      "2635                  adenoma  \n",
      "2636                  adenoma  \n",
      "\n",
      "[2637 rows x 6 columns]>\n",
      "['sessile serrated lesion' 'adenoma' 'hyperplastic polyp']\n",
      "PATHOLOGY DIAGNOSIS\n",
      "adenoma                    1933\n",
      "hyperplastic polyp          443\n",
      "sessile serrated lesion     261\n",
      "Name: count, dtype: int64\n"
     ]
    }
   ],
   "source": [
    "# process train file\n",
    "print(df_train.head)\n",
    "\n",
    "# 3 classes, only use adenoma and hyperplastic polyp in our project\n",
    "polyp_classes = df_train[\"PATHOLOGY DIAGNOSIS\"].unique()\n",
    "print(polyp_classes)\n",
    "\n",
    "category_counts = df_train[\"PATHOLOGY DIAGNOSIS\"].value_counts()\n",
    "print(category_counts)\n"
   ]
  },
  {
   "cell_type": "code",
   "execution_count": 43,
   "metadata": {},
   "outputs": [
    {
     "name": "stdout",
     "output_type": "stream",
     "text": [
      "f10b7063a7d05c9287eee831c543e172\n",
      "8f10594a9127b19e202461b554eabed2\n",
      "865f0321-37a5-4347-9756-b6fbdf29001b\n",
      "[330, 77, 193, 176]\n",
      "2\n",
      "adenoma\n",
      "[330, 77, 193, 176]\n",
      "193\n"
     ]
    }
   ],
   "source": [
    "row = df_train.iloc[2]\n",
    "print(str(row['PATIENT_ID'])) \n",
    "print(str(row['POLYP_ID']))\n",
    "print(str(row['IMG_FILE_PREFIX'])) \n",
    "print(row[\"POLYP POSITION (x,y,w,h)\"])\n",
    "print(row[\"SIZE\"])\n",
    "print(row['PATHOLOGY DIAGNOSIS'])\n",
    "\n",
    "def parse_bbox(bbox_str):\n",
    "    try:\n",
    "        bbox = ast.literal_eval(bbox_str)  \n",
    "        if isinstance(bbox, list) and len(bbox) == 4:\n",
    "            return bbox  \n",
    "    except:\n",
    "        pass\n",
    "    return None  \n",
    "print(parse_bbox(row[\"POLYP POSITION (x,y,w,h)\"]))\n",
    "print(parse_bbox(row[\"POLYP POSITION (x,y,w,h)\"])[2])"
   ]
  },
  {
   "cell_type": "code",
   "execution_count": 44,
   "metadata": {},
   "outputs": [
    {
     "name": "stdout",
     "output_type": "stream",
     "text": [
      "Folder /Users/tuboshu/Downloads/Polar_Dataset/train_set/71ab9f248af73c91f6310a91e967a11d/030ae2b25c1117f250137d2dd247382f don't exist!\n",
      "Details:\n",
      " patient_id: 71ab9f248af73c91f6310a91e967a11d \n",
      " polyp_id: 030ae2b25c1117f250137d2dd247382f \n",
      " image_prefix: 784820c6-58a5-4814-9795-41d99db2ab53\n",
      " label: adenoma\n",
      "\n",
      "<bound method NDFrame.head of                             PATIENT_ID                          POLYP_ID  \\\n",
      "0     f10b7063a7d05c9287eee831c543e172  8f10594a9127b19e202461b554eabed2   \n",
      "1     f10b7063a7d05c9287eee831c543e172  8f10594a9127b19e202461b554eabed2   \n",
      "2     2092490df624877b6963f7a0afb7ba76  c48bb221b3559bdf5726b1c269996161   \n",
      "3     2092490df624877b6963f7a0afb7ba76  c48bb221b3559bdf5726b1c269996161   \n",
      "4     2092490df624877b6963f7a0afb7ba76  5524a665e549a32e3b581180ff34a71d   \n",
      "...                                ...                               ...   \n",
      "2370  55dac536cf9f10af9299eed3deb64efb  c3434f07e2d52c50333ee2c5bec3cea2   \n",
      "2371  55dac536cf9f10af9299eed3deb64efb  c3434f07e2d52c50333ee2c5bec3cea2   \n",
      "2372  55dac536cf9f10af9299eed3deb64efb  c3434f07e2d52c50333ee2c5bec3cea2   \n",
      "2373  e07730acabe96d3f9a8752388081fcf6  fddaa3d77a75d3cf5531ccf016596ea8   \n",
      "2374  e07730acabe96d3f9a8752388081fcf6  fddaa3d77a75d3cf5531ccf016596ea8   \n",
      "\n",
      "                           IMG_FILE_PREFIX POLYP POSITION (x,y,w,h)  SIZE  \\\n",
      "0     865f0321-37a5-4347-9756-b6fbdf29001b      [330, 77, 193, 176]     2   \n",
      "1     c0dd064b-6dec-49af-953e-8c128e164ea8     [360, 227, 236, 237]     2   \n",
      "2     45e6660e-20f4-4a34-bcd0-23abedc1e241     [744, 485, 235, 201]     2   \n",
      "3     f5cfdfb1-e731-4da0-b0e1-205597621b2f     [575, 770, 295, 104]     2   \n",
      "4     3ab26075-940f-4f85-b9b1-b32582f2fd83      [-7, 341, 707, 536]     6   \n",
      "...                                    ...                      ...   ...   \n",
      "2370  02de92b7-6b1e-4396-9cb8-df08fad043d5     [714, 496, 242, 243]     2   \n",
      "2371  5bc1a141-845d-416a-bbe5-a44915e96e0f     [574, 437, 298, 314]     2   \n",
      "2372  75aead51-81e1-4c53-977f-34bf1b823d79     [694, 643, 328, 235]     2   \n",
      "2373  61853108-877f-4e3a-9fe8-deaa2d05afe6     [508, 423, 297, 232]     0   \n",
      "2374  9a1b7ffa-a224-4745-97d0-f9b96ec9f030     [473, 398, 260, 213]     0   \n",
      "\n",
      "     PATHOLOGY DIAGNOSIS  BBOX_AREA  SPLIT  \n",
      "0                adenoma      33968  train  \n",
      "1                adenoma      55932  train  \n",
      "2     hyperplastic polyp      47235  train  \n",
      "3     hyperplastic polyp      30680  train  \n",
      "4                adenoma     378952  train  \n",
      "...                  ...        ...    ...  \n",
      "2370             adenoma      58806  train  \n",
      "2371             adenoma      93572  train  \n",
      "2372             adenoma      77080  train  \n",
      "2373             adenoma      68904  train  \n",
      "2374             adenoma      55380  train  \n",
      "\n",
      "[2375 rows x 8 columns]>\n"
     ]
    }
   ],
   "source": [
    "# Filter 2 polyps and save the train/valid split info into a new file\n",
    "target_labels = [\"adenoma\", \"hyperplastic polyp\"]\n",
    "data_list = []\n",
    "\n",
    "# Loop through rows, decide each row belongs to train/valid set, and calculate bbox area\n",
    "for index, row in df_train.iterrows():\n",
    "    patient_id = str(row['PATIENT_ID']) \n",
    "    polyp_id = str(row['POLYP_ID']) \n",
    "    image_prefix = str(row['IMG_FILE_PREFIX'])  \n",
    "    polyp_position = row[\"POLYP POSITION (x,y,w,h)\"]\n",
    "    size = row[\"SIZE\"]\n",
    "    label = row['PATHOLOGY DIAGNOSIS']  \n",
    "    list_polyp_position = parse_bbox(polyp_position)\n",
    "    bbox_area = int(list_polyp_position[2] * list_polyp_position[3])\n",
    "    if label in target_labels:\n",
    "        train_img_folder = os.path.join(data_dir, \"train_set\", patient_id, polyp_id)#, image_prefix + '.full.png')\n",
    "        if os.path.exists(train_img_folder):\n",
    "            for img_file in os.listdir(train_img_folder):\n",
    "                if img_file.startswith(image_prefix): \n",
    "                    img_path = os.path.join(train_img_folder, img_file)\n",
    "                    data_list.append([patient_id, polyp_id, image_prefix, polyp_position, size, label, bbox_area, \"train\"])  \n",
    "\n",
    "        else:\n",
    "            print(f\"Folder {train_img_folder} don't exist!\")\n",
    "            print(f\"Details:\\n patient_id: {patient_id} \\n polyp_id: {polyp_id} \\n image_prefix: {image_prefix}\\n label: {label}\\n\")\n",
    "\n",
    "\n",
    "df_filterd = pd.DataFrame(data_list, columns=[\"PATIENT_ID\", \"POLYP_ID\", \"IMG_FILE_PREFIX\", \"POLYP POSITION (x,y,w,h)\", \"SIZE\", \"PATHOLOGY DIAGNOSIS\", \"BBOX_AREA\", \"SPLIT\"])\n",
    "print(df_filterd.head)\n",
    "output_csv_path = \"polar_dataset_filterd.csv\"\n",
    "#df_filterd.to_csv(output_csv_path, index=False, mode='w', header=True) # overwrite previous one\n",
    "df_filterd.to_csv(output_csv_path, index=False)"
   ]
  },
  {
   "cell_type": "code",
   "execution_count": 48,
   "metadata": {},
   "outputs": [
    {
     "name": "stdout",
     "output_type": "stream",
     "text": [
      "<bound method NDFrame.head of                            PATIENT_ID                        POLYP/IMAGE_ID  \\\n",
      "0    287a18ae061a4f779a02d787f01e823c  57781dbd-5c47-4e9f-985e-62a9077ea9c5   \n",
      "1    287a18ae061a4f779a02d787f01e823c  ddb3f8d6-1f22-4576-8f74-d9d4751a48da   \n",
      "2    287a18ae061a4f779a02d787f01e823c  64319dc0-e72d-4902-8084-ecdc17136bdd   \n",
      "3    287a18ae061a4f779a02d787f01e823c  bc673cdc-2e3a-41c7-8b37-cf289a3e42d5   \n",
      "4    287a18ae061a4f779a02d787f01e823c  8f155836-88df-4521-980e-5145a183879c   \n",
      "..                                ...                                   ...   \n",
      "725  ac64958c6cf14c86bac2af0276564483  4507f610-6f19-4fe5-aa6b-2723d8b30b0a   \n",
      "726  ddedb4c18dbf4a66835737b713e1e829  1e1b271d-ed88-46dd-b336-758e075da790   \n",
      "727  bf7cd27d2c55460f96fec721b409f8f8  dd2fb47c-dd47-4286-a39c-28bbd9e66ea9   \n",
      "728  eee29ab4dc6048029aefab30c3861507  c43e5751-cc59-43a3-b8f4-ce357acdfc37   \n",
      "729  dc41827510ea4f878f48b2088596bd61  604813dd-179f-47ae-bacf-ddee3b619baa   \n",
      "\n",
      "    POLYP POSITION (x,y,w,h) POLYP MORPHOLOGY  POLYP SIZE    POLYP LOCATION  \\\n",
      "0        [75, 468, 260, 325]          Sessile           3   Ascending colon   \n",
      "1        [62, 593, 436, 389]     Pedunculated           5  Transverse colon   \n",
      "2       [747, 613, 190, 223]          Sessile           4   Ascending colon   \n",
      "3       [641, 726, 165, 162]          Sessile           3            Rectum   \n",
      "4        [435, 28, 319, 237]          Sessile           4  Transverse colon   \n",
      "..                       ...              ...         ...               ...   \n",
      "725     [862, 216, 311, 668]          Sessile           5  Transverse colon   \n",
      "726     [297, 398, 571, 510]     Pedunculated           7     Sigmoid colon   \n",
      "727     [591, 376, 595, 701]          Sessile          15     Sigmoid colon   \n",
      "728     [258, 475, 972, 605]          Sessile          20   Ascending colon   \n",
      "729     [412, 276, 835, 693]     Pedunculated           7     Sigmoid colon   \n",
      "\n",
      "           OPTICAL DIAGNOSIS OPTCAL DIAGNOSIS CONFIDENCE  \\\n",
      "0                    Adenoma                        High   \n",
      "1                    Adenoma                        High   \n",
      "2                    Adenoma                        High   \n",
      "3                    Adenoma                        High   \n",
      "4                    Adenoma                        High   \n",
      "..                       ...                         ...   \n",
      "725  Sessile serrated lesion                        High   \n",
      "726       Hyperplastic polyp         ##USER_MISSING_99##   \n",
      "727                Carcinoma                        High   \n",
      "728                  Adenoma                        High   \n",
      "729                  Adenoma                        High   \n",
      "\n",
      "       PATHOLOGY DIAGNOSIS  \n",
      "0          Tubular adenoma  \n",
      "1          Tubular adenoma  \n",
      "2          Tubular adenoma  \n",
      "3          Tubular adenoma  \n",
      "4          Tubular adenoma  \n",
      "..                     ...  \n",
      "725           Hyperplastic  \n",
      "726               Other...  \n",
      "727         Adenocarcinoma  \n",
      "728  Tubulovillous adenoma  \n",
      "729  Tubulovillous adenoma  \n",
      "\n",
      "[730 rows x 9 columns]>\n"
     ]
    }
   ],
   "source": [
    "# process val file\n",
    "print(df_val.head)"
   ]
  },
  {
   "cell_type": "code",
   "execution_count": 52,
   "metadata": {},
   "outputs": [
    {
     "name": "stdout",
     "output_type": "stream",
     "text": [
      "['Tubular adenoma' 'Sessile serrated lesion' 'Normal mucosa'\n",
      " 'Villous adenoma' 'Tubulovillous adenoma' 'Hyperplastic'\n",
      " 'No polyp received' 'Other...' 'Adenocarcinoma'\n",
      " 'Traditional serrated adenoma' nan '##USER_MISSING_99##']\n",
      "PATHOLOGY DIAGNOSIS\n",
      "Tubular adenoma                 426\n",
      "Hyperplastic                     99\n",
      "Sessile serrated lesion          63\n",
      "Tubulovillous adenoma            44\n",
      "No polyp received                31\n",
      "Normal mucosa                    26\n",
      "Other...                         15\n",
      "Adenocarcinoma                   11\n",
      "Traditional serrated adenoma      5\n",
      "Villous adenoma                   3\n",
      "##USER_MISSING_99##               1\n",
      "Name: count, dtype: int64\n",
      "\n",
      "Total Adenoma Cases: 478\n"
     ]
    }
   ],
   "source": [
    "# 12 classes, only use adenoma and hyperplastic polyp in our project\n",
    "polyp_classes = df_val[\"PATHOLOGY DIAGNOSIS\"].unique()\n",
    "print(polyp_classes)\n",
    "\n",
    "category_counts = df_val[\"PATHOLOGY DIAGNOSIS\"].value_counts()\n",
    "print(category_counts)\n",
    "\n",
    "adenoma_count = df_val[df_val[\"PATHOLOGY DIAGNOSIS\"].str.contains(\"adenoma\", case=False, na=False)][\"PATHOLOGY DIAGNOSIS\"].value_counts().sum()\n",
    "\n",
    "print(f\"\\nTotal Adenoma Cases: {adenoma_count}\")"
   ]
  },
  {
   "cell_type": "code",
   "execution_count": 50,
   "metadata": {},
   "outputs": [
    {
     "name": "stdout",
     "output_type": "stream",
     "text": [
      "['Adenoma' 'Sessile serrated lesion' 'Hyperplastic polyp'\n",
      " '##USER_MISSING_99##' 'Other' 'Carcinoma']\n",
      "OPTICAL DIAGNOSIS\n",
      "Adenoma                    510\n",
      "Sessile serrated lesion    107\n",
      "Hyperplastic polyp          91\n",
      "Carcinoma                   12\n",
      "Other                        7\n",
      "##USER_MISSING_99##          3\n",
      "Name: count, dtype: int64\n"
     ]
    }
   ],
   "source": [
    "polyp_classes = df_val[\"OPTICAL DIAGNOSIS\"].unique()\n",
    "print(polyp_classes)\n",
    "\n",
    "category_counts = df_val[\"OPTICAL DIAGNOSIS\"].value_counts()\n",
    "print(category_counts)"
   ]
  },
  {
   "cell_type": "code",
   "execution_count": null,
   "metadata": {},
   "outputs": [],
   "source": [
    "target_labels = [\"adenoma\", \"hyperplastic polyp\"]\n",
    "data_list = []"
   ]
  },
  {
   "cell_type": "markdown",
   "metadata": {},
   "source": [
    "# Further steps to analyse...\n",
    "\n",
    "1. Statistical category distribution (diff polyps in train/val set)\n",
    "\n",
    "2. Check the image size to determine whether Resize is required (224,224)\n",
    "\n",
    "3. Check the Image Brightness & Color Distribution\n",
    "\n",
    "4. Preprocessing. normalization? data augmentation?\n"
   ]
  }
 ],
 "metadata": {
  "kernelspec": {
   "display_name": "dalas",
   "language": "python",
   "name": "python3"
  },
  "language_info": {
   "codemirror_mode": {
    "name": "ipython",
    "version": 3
   },
   "file_extension": ".py",
   "mimetype": "text/x-python",
   "name": "python",
   "nbconvert_exporter": "python",
   "pygments_lexer": "ipython3",
   "version": "3.12.8"
  },
  "orig_nbformat": 4
 },
 "nbformat": 4,
 "nbformat_minor": 2
}
